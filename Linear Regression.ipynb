{
 "cells": [
  {
   "cell_type": "markdown",
   "id": "6cc90801",
   "metadata": {},
   "source": [
    "# Linear Regression\n",
    "\n",
    "QTS ALGO: youtube: https://bit.ly/38FhGyl"
   ]
  },
  {
   "cell_type": "code",
   "execution_count": 3,
   "id": "72e03310",
   "metadata": {},
   "outputs": [],
   "source": [
    "import pandas as pd\n",
    "import numpy as np\n",
    "import matplotlib.pyplot as plt"
   ]
  },
  {
   "cell_type": "code",
   "execution_count": 4,
   "id": "01abc859",
   "metadata": {},
   "outputs": [],
   "source": [
    "df = pd.read_csv('BTC-USD.csv')"
   ]
  },
  {
   "cell_type": "code",
   "execution_count": 5,
   "id": "bee23e26",
   "metadata": {
    "scrolled": true
   },
   "outputs": [
    {
     "data": {
      "text/html": [
       "<div>\n",
       "<style scoped>\n",
       "    .dataframe tbody tr th:only-of-type {\n",
       "        vertical-align: middle;\n",
       "    }\n",
       "\n",
       "    .dataframe tbody tr th {\n",
       "        vertical-align: top;\n",
       "    }\n",
       "\n",
       "    .dataframe thead th {\n",
       "        text-align: right;\n",
       "    }\n",
       "</style>\n",
       "<table border=\"1\" class=\"dataframe\">\n",
       "  <thead>\n",
       "    <tr style=\"text-align: right;\">\n",
       "      <th></th>\n",
       "      <th>Date</th>\n",
       "      <th>Open</th>\n",
       "      <th>High</th>\n",
       "      <th>Low</th>\n",
       "      <th>Close</th>\n",
       "    </tr>\n",
       "  </thead>\n",
       "  <tbody>\n",
       "    <tr>\n",
       "      <th>0</th>\n",
       "      <td>2021-05-26</td>\n",
       "      <td>38392.625000</td>\n",
       "      <td>40782.078125</td>\n",
       "      <td>37905.835938</td>\n",
       "      <td>39294.199219</td>\n",
       "    </tr>\n",
       "    <tr>\n",
       "      <th>1</th>\n",
       "      <td>2021-05-27</td>\n",
       "      <td>39316.890625</td>\n",
       "      <td>40379.617188</td>\n",
       "      <td>37247.902344</td>\n",
       "      <td>38436.968750</td>\n",
       "    </tr>\n",
       "    <tr>\n",
       "      <th>2</th>\n",
       "      <td>2021-05-28</td>\n",
       "      <td>38507.082031</td>\n",
       "      <td>38856.968750</td>\n",
       "      <td>34779.039063</td>\n",
       "      <td>35697.605469</td>\n",
       "    </tr>\n",
       "    <tr>\n",
       "      <th>3</th>\n",
       "      <td>2021-05-29</td>\n",
       "      <td>35684.156250</td>\n",
       "      <td>37234.500000</td>\n",
       "      <td>33693.929688</td>\n",
       "      <td>34616.066406</td>\n",
       "    </tr>\n",
       "    <tr>\n",
       "      <th>4</th>\n",
       "      <td>2021-05-30</td>\n",
       "      <td>34607.406250</td>\n",
       "      <td>36400.667969</td>\n",
       "      <td>33520.738281</td>\n",
       "      <td>35678.128906</td>\n",
       "    </tr>\n",
       "    <tr>\n",
       "      <th>...</th>\n",
       "      <td>...</td>\n",
       "      <td>...</td>\n",
       "      <td>...</td>\n",
       "      <td>...</td>\n",
       "      <td>...</td>\n",
       "    </tr>\n",
       "    <tr>\n",
       "      <th>361</th>\n",
       "      <td>2022-05-22</td>\n",
       "      <td>29432.472656</td>\n",
       "      <td>30425.861328</td>\n",
       "      <td>29275.183594</td>\n",
       "      <td>30323.722656</td>\n",
       "    </tr>\n",
       "    <tr>\n",
       "      <th>362</th>\n",
       "      <td>2022-05-23</td>\n",
       "      <td>30309.396484</td>\n",
       "      <td>30590.585938</td>\n",
       "      <td>28975.560547</td>\n",
       "      <td>29098.910156</td>\n",
       "    </tr>\n",
       "    <tr>\n",
       "      <th>363</th>\n",
       "      <td>2022-05-24</td>\n",
       "      <td>29101.125000</td>\n",
       "      <td>29774.355469</td>\n",
       "      <td>28786.589844</td>\n",
       "      <td>29655.585938</td>\n",
       "    </tr>\n",
       "    <tr>\n",
       "      <th>364</th>\n",
       "      <td>2022-05-25</td>\n",
       "      <td>29653.134766</td>\n",
       "      <td>30157.785156</td>\n",
       "      <td>29384.949219</td>\n",
       "      <td>29562.361328</td>\n",
       "    </tr>\n",
       "    <tr>\n",
       "      <th>365</th>\n",
       "      <td>2022-05-26</td>\n",
       "      <td>29568.257813</td>\n",
       "      <td>29833.412109</td>\n",
       "      <td>28291.011719</td>\n",
       "      <td>29526.802734</td>\n",
       "    </tr>\n",
       "  </tbody>\n",
       "</table>\n",
       "<p>366 rows × 5 columns</p>\n",
       "</div>"
      ],
      "text/plain": [
       "           Date          Open          High           Low         Close\n",
       "0    2021-05-26  38392.625000  40782.078125  37905.835938  39294.199219\n",
       "1    2021-05-27  39316.890625  40379.617188  37247.902344  38436.968750\n",
       "2    2021-05-28  38507.082031  38856.968750  34779.039063  35697.605469\n",
       "3    2021-05-29  35684.156250  37234.500000  33693.929688  34616.066406\n",
       "4    2021-05-30  34607.406250  36400.667969  33520.738281  35678.128906\n",
       "..          ...           ...           ...           ...           ...\n",
       "361  2022-05-22  29432.472656  30425.861328  29275.183594  30323.722656\n",
       "362  2022-05-23  30309.396484  30590.585938  28975.560547  29098.910156\n",
       "363  2022-05-24  29101.125000  29774.355469  28786.589844  29655.585938\n",
       "364  2022-05-25  29653.134766  30157.785156  29384.949219  29562.361328\n",
       "365  2022-05-26  29568.257813  29833.412109  28291.011719  29526.802734\n",
       "\n",
       "[366 rows x 5 columns]"
      ]
     },
     "execution_count": 5,
     "metadata": {},
     "output_type": "execute_result"
    }
   ],
   "source": [
    "df"
   ]
  },
  {
   "cell_type": "code",
   "execution_count": null,
   "id": "95fca26f",
   "metadata": {},
   "outputs": [],
   "source": [
    "plt.scatter(df.Open, df.Close)\n",
    "plt.title('Bitcoin Open: Close price')\n",
    "plt.xlabel('Open')\n",
    "plt.ylabel('Close')\n",
    "plt.show()"
   ]
  },
  {
   "cell_type": "code",
   "execution_count": null,
   "id": "dc13884a",
   "metadata": {},
   "outputs": [],
   "source": [
    "df.boxplot(column=['Close'])"
   ]
  },
  {
   "cell_type": "code",
   "execution_count": null,
   "id": "b1a42385",
   "metadata": {},
   "outputs": [],
   "source": [
    "import statsmodels.api as sm\n",
    "\n",
    "#response variable\n",
    "y = df['Open']\n",
    "\n",
    "#explanatory variable\n",
    "x = df[['Close']]\n",
    "\n",
    "#add constant to predictor variables\n",
    "x = sm.add_constant(x)\n",
    "\n",
    "#fit linear reg model\n",
    "model = sm.OLS(y, x).fit()\n",
    "\n",
    "#view model summary\n",
    "print(model.summary());"
   ]
  },
  {
   "cell_type": "markdown",
   "id": "54bf3107",
   "metadata": {},
   "source": [
    "# Create Residual Plots"
   ]
  },
  {
   "cell_type": "code",
   "execution_count": null,
   "id": "8079b130",
   "metadata": {},
   "outputs": [],
   "source": [
    "#figure size\n",
    "fig = plt.figure(figsize=(12,8))\n",
    "\n",
    "#residual plots\n",
    "fig = sm.graphics.plot_regress_exog(model, 'Close', fig=fig)"
   ]
  },
  {
   "cell_type": "markdown",
   "id": "9ad3d880",
   "metadata": {},
   "source": [
    "# Create Q-Q plot"
   ]
  },
  {
   "cell_type": "code",
   "execution_count": null,
   "id": "961a22cd",
   "metadata": {},
   "outputs": [],
   "source": [
    "#define residuals\n",
    "res = model.resid_pearson\n",
    "\n",
    "#QQ plot\n",
    "fig = sm.qqplot(res, fit=True, line=\"45\")\n",
    "plt.show();"
   ]
  },
  {
   "cell_type": "code",
   "execution_count": null,
   "id": "96aafa23",
   "metadata": {},
   "outputs": [],
   "source": []
  }
 ],
 "metadata": {
  "kernelspec": {
   "display_name": "Python 3 (ipykernel)",
   "language": "python",
   "name": "python3"
  },
  "language_info": {
   "codemirror_mode": {
    "name": "ipython",
    "version": 3
   },
   "file_extension": ".py",
   "mimetype": "text/x-python",
   "name": "python",
   "nbconvert_exporter": "python",
   "pygments_lexer": "ipython3",
   "version": "3.9.7"
  }
 },
 "nbformat": 4,
 "nbformat_minor": 5
}
