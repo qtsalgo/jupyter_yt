{
 "cells": [
  {
   "cell_type": "markdown",
   "id": "436d34b1",
   "metadata": {},
   "source": [
    "# Confidence Intervals - how to calculate confidence intervals in python"
   ]
  },
  {
   "cell_type": "markdown",
   "id": "437756c6",
   "metadata": {},
   "source": [
    "QTS Asia Limited\n",
    "- YouTube:  https://youtu.be/x-qDnuomvsU\n"
   ]
  },
  {
   "cell_type": "markdown",
   "id": "54084f7d",
   "metadata": {},
   "source": [
    "In frequentist statistics, a confidence interval is a range of estimates for an unknown parameter. A confidence interval is computed at a designated confidence level; the 95% CL is most common, but other levels, such as 90% or 99%, are sometimes used.\n",
    "\n",
    "reference https://en.wikipedia.org/wiki/Confidence_interval\n",
    "\n",
    "\n",
    "\n",
    "You can compute your confidence interval with the folling formula:\n",
    "\n",
    "Confidence Interval = x  +/-  t*(s/√n)\n",
    "\n",
    "\n",
    "where:\n",
    "\n",
    "- x: sample mean\n",
    "- t: t-value for the confidence level\n",
    "- s: sample standard deviation\n",
    "- n: sample size\n",
    "\n",
    "\n",
    "A simple calcualtion for the 95% Confidence Interval:\n",
    "\n",
    "- x +/- 1.96*(s/√n)"
   ]
  },
  {
   "cell_type": "markdown",
   "id": "1f3c83bb",
   "metadata": {},
   "source": [
    "Confidence Intervals using the t Distribution\n",
    "for a small sample set (n <30), we can use the t.interval() function from the scipy.stats library to calculate a confidence interval for a population mean.\n",
    "\n",
    "The following example shows how we calculate a confidence interval for the close price in our data set"
   ]
  },
  {
   "cell_type": "code",
   "execution_count": 1,
   "id": "0eaec716",
   "metadata": {},
   "outputs": [
    {
     "data": {
      "text/plain": [
       "(15940.0790240234, 15967.385764708995)"
      ]
     },
     "execution_count": 1,
     "metadata": {},
     "output_type": "execute_result"
    }
   ],
   "source": [
    "import numpy as np\n",
    "import scipy.stats as st\n",
    "import pandas as pd\n",
    "\n",
    "#load sample data, \n",
    "# you can find the following data set link in the youtube details section below:\n",
    "\n",
    "df = pd.read_csv('example_data.csv')\n",
    "\n",
    "data1 = df.CLOSE\n",
    "\n",
    "#95% confidence interval for population mean close\n",
    "st.t.interval(alpha=0.95, df=len(data1)-1, loc=np.mean(data1), scale=st.sem(data1))"
   ]
  },
  {
   "cell_type": "markdown",
   "id": "c142f929",
   "metadata": {},
   "source": [
    "\n",
    "Larger confidence levels will result in a the wider  confidence interval. "
   ]
  },
  {
   "cell_type": "code",
   "execution_count": 2,
   "id": "ebbb5b7f",
   "metadata": {},
   "outputs": [
    {
     "data": {
      "text/plain": [
       "(15935.60556440214, 15971.859224330256)"
      ]
     },
     "execution_count": 2,
     "metadata": {},
     "output_type": "execute_result"
    }
   ],
   "source": [
    "#create 99% confidence interval for same sample\n",
    "st.t.interval(alpha=0.99, df=len(data1)-1, loc=np.mean(data1), scale=st.sem(data1)) \n"
   ]
  },
  {
   "cell_type": "markdown",
   "id": "39cbf724",
   "metadata": {},
   "source": [
    "## Confidence Intervals Using the Normal Distribution\n",
    "For samples n≥30 you can use the norm.interval() function from the scipy.stats library.\n"
   ]
  },
  {
   "cell_type": "code",
   "execution_count": 3,
   "id": "e42bf7be",
   "metadata": {},
   "outputs": [
    {
     "data": {
      "text/plain": [
       "(15941.35403155692, 15967.012165626178)"
      ]
     },
     "execution_count": 3,
     "metadata": {},
     "output_type": "execute_result"
    }
   ],
   "source": [
    "\n",
    "#define sample data\n",
    "data2 = df.OPEN\n",
    "\n",
    "#create 95% confidence interval for the open price\n",
    "st.norm.interval(alpha=0.95, loc=np.mean(data2), scale=st.sem(data2))\n"
   ]
  },
  {
   "cell_type": "markdown",
   "id": "7886cf61",
   "metadata": {},
   "source": [
    "\n",
    "\n",
    "As with the t distribution, larger confidence levels create wider confidence intervals. "
   ]
  },
  {
   "cell_type": "code",
   "execution_count": 4,
   "id": "8afab389",
   "metadata": {},
   "outputs": [
    {
     "data": {
      "text/plain": [
       "(15937.322846533018, 15971.043350650081)"
      ]
     },
     "execution_count": 4,
     "metadata": {},
     "output_type": "execute_result"
    }
   ],
   "source": [
    "#create 99% confidence interval for the open price\n",
    "st.norm.interval(alpha=0.99, loc=np.mean(data2), scale=st.sem(data2))\n"
   ]
  },
  {
   "cell_type": "code",
   "execution_count": null,
   "id": "7d45812a",
   "metadata": {},
   "outputs": [],
   "source": []
  }
 ],
 "metadata": {
  "kernelspec": {
   "display_name": "Python 3 (ipykernel)",
   "language": "python",
   "name": "python3"
  },
  "language_info": {
   "codemirror_mode": {
    "name": "ipython",
    "version": 3
   },
   "file_extension": ".py",
   "mimetype": "text/x-python",
   "name": "python",
   "nbconvert_exporter": "python",
   "pygments_lexer": "ipython3",
   "version": "3.9.7"
  }
 },
 "nbformat": 4,
 "nbformat_minor": 5
}
