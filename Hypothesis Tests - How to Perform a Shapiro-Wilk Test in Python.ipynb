{
 "cells": [
  {
   "cell_type": "markdown",
   "id": "cb997187",
   "metadata": {},
   "source": [
    "# How to Perform a Shapiro-Wilk Test in Python"
   ]
  },
  {
   "cell_type": "markdown",
   "id": "27ee5d8b",
   "metadata": {},
   "source": [
    "The Shapiro-Wilk test is a test of normality. It is used to determine whether or not a sample comes from a normal distribution."
   ]
  },
  {
   "cell_type": "code",
   "execution_count": 1,
   "id": "ea679a55",
   "metadata": {},
   "outputs": [],
   "source": [
    "import pandas as pd\n",
    "\n",
    "df = pd.read_csv('hypothesis_tests.csv')\n",
    "\n",
    "c = df.CLOSE\n"
   ]
  },
  {
   "cell_type": "code",
   "execution_count": 2,
   "id": "29970f81",
   "metadata": {
    "scrolled": false
   },
   "outputs": [
    {
     "data": {
      "text/html": [
       "<div>\n",
       "<style scoped>\n",
       "    .dataframe tbody tr th:only-of-type {\n",
       "        vertical-align: middle;\n",
       "    }\n",
       "\n",
       "    .dataframe tbody tr th {\n",
       "        vertical-align: top;\n",
       "    }\n",
       "\n",
       "    .dataframe thead th {\n",
       "        text-align: right;\n",
       "    }\n",
       "</style>\n",
       "<table border=\"1\" class=\"dataframe\">\n",
       "  <thead>\n",
       "    <tr style=\"text-align: right;\">\n",
       "      <th></th>\n",
       "      <th>CLOSE</th>\n",
       "      <th>HIGH</th>\n",
       "      <th>LOW</th>\n",
       "      <th>OPEN</th>\n",
       "      <th>pct_change</th>\n",
       "    </tr>\n",
       "  </thead>\n",
       "  <tbody>\n",
       "    <tr>\n",
       "      <th>0</th>\n",
       "      <td>16031</td>\n",
       "      <td>16031</td>\n",
       "      <td>16016</td>\n",
       "      <td>16018</td>\n",
       "      <td>NaN</td>\n",
       "    </tr>\n",
       "    <tr>\n",
       "      <th>1</th>\n",
       "      <td>16006</td>\n",
       "      <td>16039</td>\n",
       "      <td>16006</td>\n",
       "      <td>16018</td>\n",
       "      <td>-0.16%</td>\n",
       "    </tr>\n",
       "    <tr>\n",
       "      <th>2</th>\n",
       "      <td>16033</td>\n",
       "      <td>16033</td>\n",
       "      <td>16005</td>\n",
       "      <td>16018</td>\n",
       "      <td>0.17%</td>\n",
       "    </tr>\n",
       "    <tr>\n",
       "      <th>3</th>\n",
       "      <td>16007</td>\n",
       "      <td>16034</td>\n",
       "      <td>16007</td>\n",
       "      <td>16018</td>\n",
       "      <td>-0.16%</td>\n",
       "    </tr>\n",
       "    <tr>\n",
       "      <th>4</th>\n",
       "      <td>15994</td>\n",
       "      <td>16008</td>\n",
       "      <td>15994</td>\n",
       "      <td>16007</td>\n",
       "      <td>-0.08%</td>\n",
       "    </tr>\n",
       "  </tbody>\n",
       "</table>\n",
       "</div>"
      ],
      "text/plain": [
       "   CLOSE   HIGH    LOW   OPEN pct_change\n",
       "0  16031  16031  16016  16018        NaN\n",
       "1  16006  16039  16006  16018     -0.16%\n",
       "2  16033  16033  16005  16018      0.17%\n",
       "3  16007  16034  16007  16018     -0.16%\n",
       "4  15994  16008  15994  16007     -0.08%"
      ]
     },
     "execution_count": 2,
     "metadata": {},
     "output_type": "execute_result"
    }
   ],
   "source": [
    "df.head()"
   ]
  },
  {
   "cell_type": "code",
   "execution_count": 3,
   "id": "cf26448e",
   "metadata": {},
   "outputs": [
    {
     "data": {
      "text/plain": [
       "ShapiroResult(statistic=0.9826862215995789, pvalue=0.435039222240448)"
      ]
     },
     "execution_count": 3,
     "metadata": {},
     "output_type": "execute_result"
    }
   ],
   "source": [
    "from scipy.stats import shapiro\n",
    "#run the  Shapiro-Wilk test\n",
    "shapiro(c)"
   ]
  },
  {
   "cell_type": "code",
   "execution_count": null,
   "id": "26217d01",
   "metadata": {},
   "outputs": [],
   "source": []
  }
 ],
 "metadata": {
  "kernelspec": {
   "display_name": "Python 3 (ipykernel)",
   "language": "python",
   "name": "python3"
  },
  "language_info": {
   "codemirror_mode": {
    "name": "ipython",
    "version": 3
   },
   "file_extension": ".py",
   "mimetype": "text/x-python",
   "name": "python",
   "nbconvert_exporter": "python",
   "pygments_lexer": "ipython3",
   "version": "3.9.7"
  }
 },
 "nbformat": 4,
 "nbformat_minor": 5
}
