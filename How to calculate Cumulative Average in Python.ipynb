{
 "cells": [
  {
   "cell_type": "markdown",
   "id": "94d40f59",
   "metadata": {},
   "source": [
    "# How to calculate Cumulative Average in Python\n",
    "\n",
    "- QTS ALGO: youtube: https://bit.ly/38FhGyl"
   ]
  },
  {
   "cell_type": "code",
   "execution_count": 1,
   "id": "0a61e9f9",
   "metadata": {},
   "outputs": [],
   "source": [
    "import pandas as pd\n",
    "import numpy as np"
   ]
  },
  {
   "cell_type": "code",
   "execution_count": 2,
   "id": "11dc71a7",
   "metadata": {},
   "outputs": [],
   "source": [
    "df = pd.read_csv('time_series.csv')"
   ]
  },
  {
   "cell_type": "code",
   "execution_count": 3,
   "id": "a1af033e",
   "metadata": {},
   "outputs": [
    {
     "data": {
      "text/html": [
       "<div>\n",
       "<style scoped>\n",
       "    .dataframe tbody tr th:only-of-type {\n",
       "        vertical-align: middle;\n",
       "    }\n",
       "\n",
       "    .dataframe tbody tr th {\n",
       "        vertical-align: top;\n",
       "    }\n",
       "\n",
       "    .dataframe thead th {\n",
       "        text-align: right;\n",
       "    }\n",
       "</style>\n",
       "<table border=\"1\" class=\"dataframe\">\n",
       "  <thead>\n",
       "    <tr style=\"text-align: right;\">\n",
       "      <th></th>\n",
       "      <th>CLOSE</th>\n",
       "      <th>HIGH</th>\n",
       "      <th>LOW</th>\n",
       "      <th>OPEN</th>\n",
       "      <th>CLOSE_MEAN</th>\n",
       "    </tr>\n",
       "  </thead>\n",
       "  <tbody>\n",
       "    <tr>\n",
       "      <th>0</th>\n",
       "      <td>16031</td>\n",
       "      <td>16031</td>\n",
       "      <td>16016</td>\n",
       "      <td>16018</td>\n",
       "      <td>16031.000000</td>\n",
       "    </tr>\n",
       "    <tr>\n",
       "      <th>1</th>\n",
       "      <td>16006</td>\n",
       "      <td>16039</td>\n",
       "      <td>16006</td>\n",
       "      <td>16018</td>\n",
       "      <td>16018.500000</td>\n",
       "    </tr>\n",
       "    <tr>\n",
       "      <th>2</th>\n",
       "      <td>16033</td>\n",
       "      <td>16033</td>\n",
       "      <td>16005</td>\n",
       "      <td>16018</td>\n",
       "      <td>16023.333333</td>\n",
       "    </tr>\n",
       "    <tr>\n",
       "      <th>3</th>\n",
       "      <td>16007</td>\n",
       "      <td>16034</td>\n",
       "      <td>16007</td>\n",
       "      <td>16018</td>\n",
       "      <td>16019.250000</td>\n",
       "    </tr>\n",
       "    <tr>\n",
       "      <th>4</th>\n",
       "      <td>15994</td>\n",
       "      <td>16008</td>\n",
       "      <td>15994</td>\n",
       "      <td>16007</td>\n",
       "      <td>16014.200000</td>\n",
       "    </tr>\n",
       "  </tbody>\n",
       "</table>\n",
       "</div>"
      ],
      "text/plain": [
       "   CLOSE   HIGH    LOW   OPEN    CLOSE_MEAN\n",
       "0  16031  16031  16016  16018  16031.000000\n",
       "1  16006  16039  16006  16018  16018.500000\n",
       "2  16033  16033  16005  16018  16023.333333\n",
       "3  16007  16034  16007  16018  16019.250000\n",
       "4  15994  16008  15994  16007  16014.200000"
      ]
     },
     "execution_count": 3,
     "metadata": {},
     "output_type": "execute_result"
    }
   ],
   "source": [
    "df.head()"
   ]
  },
  {
   "cell_type": "code",
   "execution_count": 4,
   "id": "a6cf7b44",
   "metadata": {},
   "outputs": [],
   "source": [
    "#calculate the cumalative average of the  'HIGH' column\n",
    "df['HIGH_MEAN'] = df['HIGH'].expanding().mean()"
   ]
  },
  {
   "cell_type": "code",
   "execution_count": 5,
   "id": "cf3b2ad6",
   "metadata": {},
   "outputs": [
    {
     "data": {
      "text/html": [
       "<div>\n",
       "<style scoped>\n",
       "    .dataframe tbody tr th:only-of-type {\n",
       "        vertical-align: middle;\n",
       "    }\n",
       "\n",
       "    .dataframe tbody tr th {\n",
       "        vertical-align: top;\n",
       "    }\n",
       "\n",
       "    .dataframe thead th {\n",
       "        text-align: right;\n",
       "    }\n",
       "</style>\n",
       "<table border=\"1\" class=\"dataframe\">\n",
       "  <thead>\n",
       "    <tr style=\"text-align: right;\">\n",
       "      <th></th>\n",
       "      <th>CLOSE</th>\n",
       "      <th>HIGH</th>\n",
       "      <th>LOW</th>\n",
       "      <th>OPEN</th>\n",
       "      <th>CLOSE_MEAN</th>\n",
       "      <th>HIGH_MEAN</th>\n",
       "    </tr>\n",
       "  </thead>\n",
       "  <tbody>\n",
       "    <tr>\n",
       "      <th>0</th>\n",
       "      <td>16031</td>\n",
       "      <td>16031</td>\n",
       "      <td>16016</td>\n",
       "      <td>16018</td>\n",
       "      <td>16031.000000</td>\n",
       "      <td>16031.000000</td>\n",
       "    </tr>\n",
       "    <tr>\n",
       "      <th>1</th>\n",
       "      <td>16006</td>\n",
       "      <td>16039</td>\n",
       "      <td>16006</td>\n",
       "      <td>16018</td>\n",
       "      <td>16018.500000</td>\n",
       "      <td>16035.000000</td>\n",
       "    </tr>\n",
       "    <tr>\n",
       "      <th>2</th>\n",
       "      <td>16033</td>\n",
       "      <td>16033</td>\n",
       "      <td>16005</td>\n",
       "      <td>16018</td>\n",
       "      <td>16023.333333</td>\n",
       "      <td>16034.333333</td>\n",
       "    </tr>\n",
       "    <tr>\n",
       "      <th>3</th>\n",
       "      <td>16007</td>\n",
       "      <td>16034</td>\n",
       "      <td>16007</td>\n",
       "      <td>16018</td>\n",
       "      <td>16019.250000</td>\n",
       "      <td>16034.250000</td>\n",
       "    </tr>\n",
       "    <tr>\n",
       "      <th>4</th>\n",
       "      <td>15994</td>\n",
       "      <td>16008</td>\n",
       "      <td>15994</td>\n",
       "      <td>16007</td>\n",
       "      <td>16014.200000</td>\n",
       "      <td>16029.000000</td>\n",
       "    </tr>\n",
       "  </tbody>\n",
       "</table>\n",
       "</div>"
      ],
      "text/plain": [
       "   CLOSE   HIGH    LOW   OPEN    CLOSE_MEAN     HIGH_MEAN\n",
       "0  16031  16031  16016  16018  16031.000000  16031.000000\n",
       "1  16006  16039  16006  16018  16018.500000  16035.000000\n",
       "2  16033  16033  16005  16018  16023.333333  16034.333333\n",
       "3  16007  16034  16007  16018  16019.250000  16034.250000\n",
       "4  15994  16008  15994  16007  16014.200000  16029.000000"
      ]
     },
     "execution_count": 5,
     "metadata": {},
     "output_type": "execute_result"
    }
   ],
   "source": [
    "df.head()"
   ]
  },
  {
   "cell_type": "code",
   "execution_count": null,
   "id": "06b43be1",
   "metadata": {},
   "outputs": [],
   "source": []
  }
 ],
 "metadata": {
  "kernelspec": {
   "display_name": "Python 3 (ipykernel)",
   "language": "python",
   "name": "python3"
  },
  "language_info": {
   "codemirror_mode": {
    "name": "ipython",
    "version": 3
   },
   "file_extension": ".py",
   "mimetype": "text/x-python",
   "name": "python",
   "nbconvert_exporter": "python",
   "pygments_lexer": "ipython3",
   "version": "3.9.7"
  }
 },
 "nbformat": 4,
 "nbformat_minor": 5
}
