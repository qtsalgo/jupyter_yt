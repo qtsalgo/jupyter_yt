{
 "cells": [
  {
   "cell_type": "markdown",
   "id": "bed261b0",
   "metadata": {},
   "source": [
    "# DataFrame Functions - multiple ways to Calculate the Sum of Columns in Pandas\n",
    "\n"
   ]
  },
  {
   "cell_type": "code",
   "execution_count": 1,
   "id": "17427123",
   "metadata": {},
   "outputs": [],
   "source": [
    "import pandas as pd\n",
    "import numpy as np"
   ]
  },
  {
   "cell_type": "code",
   "execution_count": 2,
   "id": "d53a71bc",
   "metadata": {},
   "outputs": [],
   "source": [
    "df = pd.read_csv('example_data.csv')"
   ]
  },
  {
   "cell_type": "code",
   "execution_count": 3,
   "id": "191a1ebd",
   "metadata": {},
   "outputs": [
    {
     "data": {
      "text/html": [
       "<div>\n",
       "<style scoped>\n",
       "    .dataframe tbody tr th:only-of-type {\n",
       "        vertical-align: middle;\n",
       "    }\n",
       "\n",
       "    .dataframe tbody tr th {\n",
       "        vertical-align: top;\n",
       "    }\n",
       "\n",
       "    .dataframe thead th {\n",
       "        text-align: right;\n",
       "    }\n",
       "</style>\n",
       "<table border=\"1\" class=\"dataframe\">\n",
       "  <thead>\n",
       "    <tr style=\"text-align: right;\">\n",
       "      <th></th>\n",
       "      <th>CLOSE</th>\n",
       "      <th>HIGH</th>\n",
       "      <th>LOW</th>\n",
       "      <th>OPEN</th>\n",
       "    </tr>\n",
       "  </thead>\n",
       "  <tbody>\n",
       "    <tr>\n",
       "      <th>0</th>\n",
       "      <td>16031</td>\n",
       "      <td>16031</td>\n",
       "      <td>16016</td>\n",
       "      <td>16018</td>\n",
       "    </tr>\n",
       "    <tr>\n",
       "      <th>1</th>\n",
       "      <td>16006</td>\n",
       "      <td>16039</td>\n",
       "      <td>16006</td>\n",
       "      <td>16018</td>\n",
       "    </tr>\n",
       "    <tr>\n",
       "      <th>2</th>\n",
       "      <td>16033</td>\n",
       "      <td>16033</td>\n",
       "      <td>16005</td>\n",
       "      <td>16018</td>\n",
       "    </tr>\n",
       "    <tr>\n",
       "      <th>3</th>\n",
       "      <td>16007</td>\n",
       "      <td>16034</td>\n",
       "      <td>16007</td>\n",
       "      <td>16018</td>\n",
       "    </tr>\n",
       "    <tr>\n",
       "      <th>4</th>\n",
       "      <td>15994</td>\n",
       "      <td>16008</td>\n",
       "      <td>15994</td>\n",
       "      <td>16007</td>\n",
       "    </tr>\n",
       "  </tbody>\n",
       "</table>\n",
       "</div>"
      ],
      "text/plain": [
       "   CLOSE   HIGH    LOW   OPEN\n",
       "0  16031  16031  16016  16018\n",
       "1  16006  16039  16006  16018\n",
       "2  16033  16033  16005  16018\n",
       "3  16007  16034  16007  16018\n",
       "4  15994  16008  15994  16007"
      ]
     },
     "execution_count": 3,
     "metadata": {},
     "output_type": "execute_result"
    }
   ],
   "source": [
    "df.head()"
   ]
  },
  {
   "cell_type": "markdown",
   "id": "135cac61",
   "metadata": {},
   "source": [
    "# Find the sum of of a single column\n",
    "with the following syntax:"
   ]
  },
  {
   "cell_type": "code",
   "execution_count": 4,
   "id": "ca8d31d9",
   "metadata": {},
   "outputs": [
    {
     "data": {
      "text/plain": [
       "1132715"
      ]
     },
     "execution_count": 4,
     "metadata": {},
     "output_type": "execute_result"
    }
   ],
   "source": [
    "df['CLOSE'].sum()"
   ]
  },
  {
   "cell_type": "markdown",
   "id": "e109b9ec",
   "metadata": {},
   "source": [
    "Fortunately The sum() function will exclude NA’s by default. "
   ]
  },
  {
   "cell_type": "markdown",
   "id": "77cb46f4",
   "metadata": {},
   "source": [
    "# Find the sum of Multiple Columns\n",
    "by using the following synta"
   ]
  },
  {
   "cell_type": "code",
   "execution_count": 5,
   "id": "2bfd9c4b",
   "metadata": {},
   "outputs": [
    {
     "data": {
      "text/plain": [
       "CLOSE    1132715\n",
       "OPEN     1132747\n",
       "dtype: int64"
      ]
     },
     "execution_count": 5,
     "metadata": {},
     "output_type": "execute_result"
    }
   ],
   "source": [
    "#find sum of minPnl\tmaxPnl columns\n",
    "df[['CLOSE', 'OPEN']].sum()"
   ]
  },
  {
   "cell_type": "markdown",
   "id": "2dabf8a2",
   "metadata": {},
   "source": [
    "# Find the sum of all columns\n",
    "by using the following syntax:"
   ]
  },
  {
   "cell_type": "code",
   "execution_count": 6,
   "id": "0b4cd7ab",
   "metadata": {},
   "outputs": [
    {
     "data": {
      "text/plain": [
       "CLOSE    1132715\n",
       "HIGH     1133629\n",
       "LOW      1131846\n",
       "OPEN     1132747\n",
       "dtype: int64"
      ]
     },
     "execution_count": 6,
     "metadata": {},
     "output_type": "execute_result"
    }
   ],
   "source": [
    "#find sum of all columns in DataFrame\n",
    "df.sum()"
   ]
  },
  {
   "cell_type": "markdown",
   "id": "f467da02",
   "metadata": {},
   "source": [
    "For columns that are not numeric, the sum() function will simply not calculate the sum of those columns."
   ]
  }
 ],
 "metadata": {
  "kernelspec": {
   "display_name": "Python 3 (ipykernel)",
   "language": "python",
   "name": "python3"
  },
  "language_info": {
   "codemirror_mode": {
    "name": "ipython",
    "version": 3
   },
   "file_extension": ".py",
   "mimetype": "text/x-python",
   "name": "python",
   "nbconvert_exporter": "python",
   "pygments_lexer": "ipython3",
   "version": "3.9.7"
  }
 },
 "nbformat": 4,
 "nbformat_minor": 5
}
