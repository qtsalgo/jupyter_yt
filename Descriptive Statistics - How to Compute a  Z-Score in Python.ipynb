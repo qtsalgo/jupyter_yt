{
 "cells": [
  {
   "cell_type": "markdown",
   "id": "14ada940",
   "metadata": {},
   "source": [
    "# Descriptive Statistics - How to compute a  Z-Score in Python"
   ]
  },
  {
   "cell_type": "markdown",
   "id": "06b7e21c",
   "metadata": {},
   "source": [
    "Import modules."
   ]
  },
  {
   "cell_type": "code",
   "execution_count": 1,
   "id": "4cbb0cdd",
   "metadata": {},
   "outputs": [],
   "source": [
    "import pandas as pd\n",
    "import numpy as np\n",
    "import scipy.stats as stats"
   ]
  },
  {
   "cell_type": "code",
   "execution_count": 2,
   "id": "b2bfc376",
   "metadata": {},
   "outputs": [],
   "source": [
    "df = pd.read_csv('example_data.csv')"
   ]
  },
  {
   "cell_type": "code",
   "execution_count": 3,
   "id": "b4746d44",
   "metadata": {},
   "outputs": [
    {
     "data": {
      "text/plain": [
       "(71, 4)"
      ]
     },
     "execution_count": 3,
     "metadata": {},
     "output_type": "execute_result"
    }
   ],
   "source": [
    "df.shape"
   ]
  },
  {
   "cell_type": "code",
   "execution_count": 4,
   "id": "72710d0f",
   "metadata": {
    "scrolled": false
   },
   "outputs": [
    {
     "data": {
      "text/html": [
       "<div>\n",
       "<style scoped>\n",
       "    .dataframe tbody tr th:only-of-type {\n",
       "        vertical-align: middle;\n",
       "    }\n",
       "\n",
       "    .dataframe tbody tr th {\n",
       "        vertical-align: top;\n",
       "    }\n",
       "\n",
       "    .dataframe thead th {\n",
       "        text-align: right;\n",
       "    }\n",
       "</style>\n",
       "<table border=\"1\" class=\"dataframe\">\n",
       "  <thead>\n",
       "    <tr style=\"text-align: right;\">\n",
       "      <th></th>\n",
       "      <th>CLOSE</th>\n",
       "      <th>HIGH</th>\n",
       "      <th>LOW</th>\n",
       "      <th>OPEN</th>\n",
       "    </tr>\n",
       "  </thead>\n",
       "  <tbody>\n",
       "    <tr>\n",
       "      <th>0</th>\n",
       "      <td>16031</td>\n",
       "      <td>16031</td>\n",
       "      <td>16016</td>\n",
       "      <td>16018</td>\n",
       "    </tr>\n",
       "    <tr>\n",
       "      <th>1</th>\n",
       "      <td>16006</td>\n",
       "      <td>16039</td>\n",
       "      <td>16006</td>\n",
       "      <td>16018</td>\n",
       "    </tr>\n",
       "    <tr>\n",
       "      <th>2</th>\n",
       "      <td>16033</td>\n",
       "      <td>16033</td>\n",
       "      <td>16005</td>\n",
       "      <td>16018</td>\n",
       "    </tr>\n",
       "    <tr>\n",
       "      <th>3</th>\n",
       "      <td>16007</td>\n",
       "      <td>16034</td>\n",
       "      <td>16007</td>\n",
       "      <td>16018</td>\n",
       "    </tr>\n",
       "    <tr>\n",
       "      <th>4</th>\n",
       "      <td>15994</td>\n",
       "      <td>16008</td>\n",
       "      <td>15994</td>\n",
       "      <td>16007</td>\n",
       "    </tr>\n",
       "  </tbody>\n",
       "</table>\n",
       "</div>"
      ],
      "text/plain": [
       "   CLOSE   HIGH    LOW   OPEN\n",
       "0  16031  16031  16016  16018\n",
       "1  16006  16039  16006  16018\n",
       "2  16033  16033  16005  16018\n",
       "3  16007  16034  16007  16018\n",
       "4  15994  16008  15994  16007"
      ]
     },
     "execution_count": 4,
     "metadata": {},
     "output_type": "execute_result"
    }
   ],
   "source": [
    "df.head()"
   ]
  },
  {
   "cell_type": "markdown",
   "id": "a7c5d9f8",
   "metadata": {},
   "source": [
    "We can use the apply function to calculate the z-score of individual values by column:"
   ]
  },
  {
   "cell_type": "code",
   "execution_count": 5,
   "id": "5b116404",
   "metadata": {},
   "outputs": [
    {
     "data": {
      "text/html": [
       "<div>\n",
       "<style scoped>\n",
       "    .dataframe tbody tr th:only-of-type {\n",
       "        vertical-align: middle;\n",
       "    }\n",
       "\n",
       "    .dataframe tbody tr th {\n",
       "        vertical-align: top;\n",
       "    }\n",
       "\n",
       "    .dataframe thead th {\n",
       "        text-align: right;\n",
       "    }\n",
       "</style>\n",
       "<table border=\"1\" class=\"dataframe\">\n",
       "  <thead>\n",
       "    <tr style=\"text-align: right;\">\n",
       "      <th></th>\n",
       "      <th>CLOSE</th>\n",
       "      <th>HIGH</th>\n",
       "      <th>LOW</th>\n",
       "      <th>OPEN</th>\n",
       "    </tr>\n",
       "  </thead>\n",
       "  <tbody>\n",
       "    <tr>\n",
       "      <th>0</th>\n",
       "      <td>1.349053</td>\n",
       "      <td>1.164475</td>\n",
       "      <td>1.325339</td>\n",
       "      <td>1.165305</td>\n",
       "    </tr>\n",
       "    <tr>\n",
       "      <th>1</th>\n",
       "      <td>0.912566</td>\n",
       "      <td>1.309143</td>\n",
       "      <td>1.147458</td>\n",
       "      <td>1.165305</td>\n",
       "    </tr>\n",
       "    <tr>\n",
       "      <th>2</th>\n",
       "      <td>1.383972</td>\n",
       "      <td>1.200642</td>\n",
       "      <td>1.129670</td>\n",
       "      <td>1.165305</td>\n",
       "    </tr>\n",
       "    <tr>\n",
       "      <th>3</th>\n",
       "      <td>0.930025</td>\n",
       "      <td>1.218725</td>\n",
       "      <td>1.165246</td>\n",
       "      <td>1.165305</td>\n",
       "    </tr>\n",
       "    <tr>\n",
       "      <th>4</th>\n",
       "      <td>0.703052</td>\n",
       "      <td>0.748555</td>\n",
       "      <td>0.934001</td>\n",
       "      <td>0.964444</td>\n",
       "    </tr>\n",
       "    <tr>\n",
       "      <th>...</th>\n",
       "      <td>...</td>\n",
       "      <td>...</td>\n",
       "      <td>...</td>\n",
       "      <td>...</td>\n",
       "    </tr>\n",
       "    <tr>\n",
       "      <th>66</th>\n",
       "      <td>-1.968250</td>\n",
       "      <td>-1.819301</td>\n",
       "      <td>-1.787579</td>\n",
       "      <td>-1.829357</td>\n",
       "    </tr>\n",
       "    <tr>\n",
       "      <th>67</th>\n",
       "      <td>-2.212682</td>\n",
       "      <td>-2.162888</td>\n",
       "      <td>-2.036612</td>\n",
       "      <td>-2.084999</td>\n",
       "    </tr>\n",
       "    <tr>\n",
       "      <th>68</th>\n",
       "      <td>-1.758736</td>\n",
       "      <td>-2.054387</td>\n",
       "      <td>-2.143341</td>\n",
       "      <td>-2.084999</td>\n",
       "    </tr>\n",
       "    <tr>\n",
       "      <th>69</th>\n",
       "      <td>-2.212682</td>\n",
       "      <td>-1.855468</td>\n",
       "      <td>-2.036612</td>\n",
       "      <td>-2.084999</td>\n",
       "    </tr>\n",
       "    <tr>\n",
       "      <th>70</th>\n",
       "      <td>-1.741276</td>\n",
       "      <td>-2.036303</td>\n",
       "      <td>-2.125553</td>\n",
       "      <td>-2.084999</td>\n",
       "    </tr>\n",
       "  </tbody>\n",
       "</table>\n",
       "<p>71 rows × 4 columns</p>\n",
       "</div>"
      ],
      "text/plain": [
       "       CLOSE      HIGH       LOW      OPEN\n",
       "0   1.349053  1.164475  1.325339  1.165305\n",
       "1   0.912566  1.309143  1.147458  1.165305\n",
       "2   1.383972  1.200642  1.129670  1.165305\n",
       "3   0.930025  1.218725  1.165246  1.165305\n",
       "4   0.703052  0.748555  0.934001  0.964444\n",
       "..       ...       ...       ...       ...\n",
       "66 -1.968250 -1.819301 -1.787579 -1.829357\n",
       "67 -2.212682 -2.162888 -2.036612 -2.084999\n",
       "68 -1.758736 -2.054387 -2.143341 -2.084999\n",
       "69 -2.212682 -1.855468 -2.036612 -2.084999\n",
       "70 -1.741276 -2.036303 -2.125553 -2.084999\n",
       "\n",
       "[71 rows x 4 columns]"
      ]
     },
     "execution_count": 5,
     "metadata": {},
     "output_type": "execute_result"
    }
   ],
   "source": [
    "df.apply(stats.zscore)"
   ]
  },
  {
   "cell_type": "markdown",
   "id": "c377b3d0",
   "metadata": {},
   "source": [
    "The z-scores for each individual value are now shown in each column\n"
   ]
  },
  {
   "cell_type": "code",
   "execution_count": null,
   "id": "f571587a",
   "metadata": {},
   "outputs": [],
   "source": []
  }
 ],
 "metadata": {
  "kernelspec": {
   "display_name": "Python 3 (ipykernel)",
   "language": "python",
   "name": "python3"
  },
  "language_info": {
   "codemirror_mode": {
    "name": "ipython",
    "version": 3
   },
   "file_extension": ".py",
   "mimetype": "text/x-python",
   "name": "python",
   "nbconvert_exporter": "python",
   "pygments_lexer": "ipython3",
   "version": "3.9.7"
  }
 },
 "nbformat": 4,
 "nbformat_minor": 5
}
