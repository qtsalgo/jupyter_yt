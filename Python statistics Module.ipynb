{
 "cells": [
  {
   "cell_type": "markdown",
   "id": "2bfd8f06",
   "metadata": {},
   "source": [
    "# Python statistics Module"
   ]
  },
  {
   "cell_type": "code",
   "execution_count": 1,
   "id": "7a1686a4",
   "metadata": {},
   "outputs": [],
   "source": [
    "import pandas as pd\n",
    "import statistics"
   ]
  },
  {
   "cell_type": "code",
   "execution_count": 2,
   "id": "24f55774",
   "metadata": {},
   "outputs": [],
   "source": [
    "data = pd.read_csv('time_and_sales.csv')"
   ]
  },
  {
   "cell_type": "code",
   "execution_count": 3,
   "id": "aa04e34d",
   "metadata": {
    "scrolled": true
   },
   "outputs": [
    {
     "data": {
      "text/html": [
       "<div>\n",
       "<style scoped>\n",
       "    .dataframe tbody tr th:only-of-type {\n",
       "        vertical-align: middle;\n",
       "    }\n",
       "\n",
       "    .dataframe tbody tr th {\n",
       "        vertical-align: top;\n",
       "    }\n",
       "\n",
       "    .dataframe thead th {\n",
       "        text-align: right;\n",
       "    }\n",
       "</style>\n",
       "<table border=\"1\" class=\"dataframe\">\n",
       "  <thead>\n",
       "    <tr style=\"text-align: right;\">\n",
       "      <th></th>\n",
       "      <th>TIMESTAMP</th>\n",
       "      <th>BIC</th>\n",
       "      <th>PRICE</th>\n",
       "      <th>SIZE</th>\n",
       "      <th>VWAP</th>\n",
       "      <th>BID</th>\n",
       "      <th>ASK</th>\n",
       "      <th>BID_SIZE</th>\n",
       "      <th>ASK_SIZE</th>\n",
       "      <th>SEQ_NO</th>\n",
       "    </tr>\n",
       "  </thead>\n",
       "  <tbody>\n",
       "    <tr>\n",
       "      <th>0</th>\n",
       "      <td>2022-04-20 00:14:59.967</td>\n",
       "      <td>dax</td>\n",
       "      <td>14221</td>\n",
       "      <td>3</td>\n",
       "      <td>42663</td>\n",
       "      <td>14231</td>\n",
       "      <td>14231</td>\n",
       "      <td>1</td>\n",
       "      <td>1</td>\n",
       "      <td>1</td>\n",
       "    </tr>\n",
       "    <tr>\n",
       "      <th>1</th>\n",
       "      <td>2022-04-20 00:15:00.335</td>\n",
       "      <td>dax</td>\n",
       "      <td>14208</td>\n",
       "      <td>8</td>\n",
       "      <td>113664</td>\n",
       "      <td>14201</td>\n",
       "      <td>14212</td>\n",
       "      <td>5</td>\n",
       "      <td>1</td>\n",
       "      <td>2</td>\n",
       "    </tr>\n",
       "    <tr>\n",
       "      <th>2</th>\n",
       "      <td>2022-04-20 00:15:01.469</td>\n",
       "      <td>dax</td>\n",
       "      <td>14212</td>\n",
       "      <td>2</td>\n",
       "      <td>28424</td>\n",
       "      <td>14201</td>\n",
       "      <td>14212</td>\n",
       "      <td>2</td>\n",
       "      <td>1</td>\n",
       "      <td>3</td>\n",
       "    </tr>\n",
       "    <tr>\n",
       "      <th>3</th>\n",
       "      <td>2022-04-20 00:15:02.021</td>\n",
       "      <td>dax</td>\n",
       "      <td>14211</td>\n",
       "      <td>1</td>\n",
       "      <td>14211</td>\n",
       "      <td>14202</td>\n",
       "      <td>14215</td>\n",
       "      <td>1</td>\n",
       "      <td>1</td>\n",
       "      <td>4</td>\n",
       "    </tr>\n",
       "    <tr>\n",
       "      <th>4</th>\n",
       "      <td>2022-04-20 00:15:03.750</td>\n",
       "      <td>dax</td>\n",
       "      <td>14210</td>\n",
       "      <td>2</td>\n",
       "      <td>28420</td>\n",
       "      <td>14212</td>\n",
       "      <td>14217</td>\n",
       "      <td>1</td>\n",
       "      <td>1</td>\n",
       "      <td>5</td>\n",
       "    </tr>\n",
       "  </tbody>\n",
       "</table>\n",
       "</div>"
      ],
      "text/plain": [
       "                 TIMESTAMP   BIC  PRICE  SIZE    VWAP    BID    ASK  BID_SIZE  \\\n",
       "0  2022-04-20 00:14:59.967  dax   14221     3   42663  14231  14231         1   \n",
       "1  2022-04-20 00:15:00.335  dax   14208     8  113664  14201  14212         5   \n",
       "2  2022-04-20 00:15:01.469  dax   14212     2   28424  14201  14212         2   \n",
       "3  2022-04-20 00:15:02.021  dax   14211     1   14211  14202  14215         1   \n",
       "4  2022-04-20 00:15:03.750  dax   14210     2   28420  14212  14217         1   \n",
       "\n",
       "   ASK_SIZE  SEQ_NO  \n",
       "0         1       1  \n",
       "1         1       2  \n",
       "2         1       3  \n",
       "3         1       4  \n",
       "4         1       5  "
      ]
     },
     "execution_count": 3,
     "metadata": {},
     "output_type": "execute_result"
    }
   ],
   "source": [
    "data.head()"
   ]
  },
  {
   "cell_type": "markdown",
   "id": "e03e8597",
   "metadata": {},
   "source": [
    "#### Calculates the harmonic mean (central location) of the given data set"
   ]
  },
  {
   "cell_type": "code",
   "execution_count": 4,
   "id": "07b94445",
   "metadata": {},
   "outputs": [
    {
     "data": {
      "text/plain": [
       "14310.789444419463"
      ]
     },
     "execution_count": 4,
     "metadata": {},
     "output_type": "execute_result"
    }
   ],
   "source": [
    "statistics.harmonic_mean(data['PRICE'])"
   ]
  },
  {
   "cell_type": "markdown",
   "id": "36ff5085",
   "metadata": {},
   "source": [
    "#### Calculates the  mean (average) of the given data set"
   ]
  },
  {
   "cell_type": "code",
   "execution_count": 5,
   "id": "2b177479",
   "metadata": {},
   "outputs": [
    {
     "data": {
      "text/plain": [
       "14311.064803049556"
      ]
     },
     "execution_count": 5,
     "metadata": {},
     "output_type": "execute_result"
    }
   ],
   "source": [
    "statistics.mean(data['PRICE'])"
   ]
  },
  {
   "cell_type": "markdown",
   "id": "d9704557",
   "metadata": {},
   "source": [
    "#### Calculates the median (middle value) of the given data set"
   ]
  },
  {
   "cell_type": "code",
   "execution_count": 6,
   "id": "57b2cbfc",
   "metadata": {},
   "outputs": [
    {
     "data": {
      "text/plain": [
       "14337.0"
      ]
     },
     "execution_count": 6,
     "metadata": {},
     "output_type": "execute_result"
    }
   ],
   "source": [
    "statistics.median(data['PRICE'])"
   ]
  },
  {
   "cell_type": "markdown",
   "id": "0255b9cf",
   "metadata": {},
   "source": [
    "#### Calculates the median of grouped continuous data"
   ]
  },
  {
   "cell_type": "code",
   "execution_count": 7,
   "id": "99e6c387",
   "metadata": {},
   "outputs": [
    {
     "data": {
      "text/plain": [
       "14336.993617021277"
      ]
     },
     "execution_count": 7,
     "metadata": {},
     "output_type": "execute_result"
    }
   ],
   "source": [
    "statistics.median_grouped(data['PRICE'])"
   ]
  },
  {
   "cell_type": "markdown",
   "id": "481656be",
   "metadata": {},
   "source": [
    "#### Calculates the high median of the given data"
   ]
  },
  {
   "cell_type": "code",
   "execution_count": 8,
   "id": "47415fa5",
   "metadata": {},
   "outputs": [
    {
     "data": {
      "text/plain": [
       "14337"
      ]
     },
     "execution_count": 8,
     "metadata": {},
     "output_type": "execute_result"
    }
   ],
   "source": [
    "statistics.median_high(data['PRICE'])"
   ]
  },
  {
   "cell_type": "markdown",
   "id": "4449233c",
   "metadata": {},
   "source": [
    "#### Calculates the low median of the given data"
   ]
  },
  {
   "cell_type": "code",
   "execution_count": 9,
   "id": "19a34669",
   "metadata": {},
   "outputs": [
    {
     "data": {
      "text/plain": [
       "14337"
      ]
     },
     "execution_count": 9,
     "metadata": {},
     "output_type": "execute_result"
    }
   ],
   "source": [
    "statistics.median_low(data['PRICE'])"
   ]
  },
  {
   "cell_type": "markdown",
   "id": "f5a253dd",
   "metadata": {},
   "source": [
    "#### Calculates the mode (central tendency) of the given numeric or nominal data"
   ]
  },
  {
   "cell_type": "code",
   "execution_count": 10,
   "id": "c2959ec7",
   "metadata": {},
   "outputs": [
    {
     "data": {
      "text/plain": [
       "14358"
      ]
     },
     "execution_count": 10,
     "metadata": {},
     "output_type": "execute_result"
    }
   ],
   "source": [
    "statistics.mode(data['PRICE'])"
   ]
  },
  {
   "cell_type": "markdown",
   "id": "8aae8d0e",
   "metadata": {},
   "source": [
    "#### Calculates the standard deviation for the entire population"
   ]
  },
  {
   "cell_type": "code",
   "execution_count": 11,
   "id": "75583df1",
   "metadata": {},
   "outputs": [
    {
     "data": {
      "text/plain": [
       "62.67562646641693"
      ]
     },
     "execution_count": 11,
     "metadata": {},
     "output_type": "execute_result"
    }
   ],
   "source": [
    "statistics.pstdev(data['PRICE'])"
   ]
  },
  {
   "cell_type": "markdown",
   "id": "daacbdc5",
   "metadata": {},
   "source": [
    "#### Calculates the standard deviation from a sample"
   ]
  },
  {
   "cell_type": "code",
   "execution_count": 12,
   "id": "9af2768c",
   "metadata": {},
   "outputs": [
    {
     "data": {
      "text/plain": [
       "62.6772856710782"
      ]
     },
     "execution_count": 12,
     "metadata": {},
     "output_type": "execute_result"
    }
   ],
   "source": [
    "statistics.stdev(data['PRICE'])"
   ]
  },
  {
   "cell_type": "markdown",
   "id": "2fee83e7",
   "metadata": {},
   "source": [
    "#### Calculates the variance for the entire population"
   ]
  },
  {
   "cell_type": "code",
   "execution_count": 13,
   "id": "34fa84b5",
   "metadata": {},
   "outputs": [
    {
     "data": {
      "text/plain": [
       "3928.234152957822"
      ]
     },
     "execution_count": 13,
     "metadata": {},
     "output_type": "execute_result"
    }
   ],
   "source": [
    "statistics.pvariance(data['PRICE'])"
   ]
  },
  {
   "cell_type": "markdown",
   "id": "5e6373cf",
   "metadata": {},
   "source": [
    "#### Calculates the variance deviation for the entire population"
   ]
  },
  {
   "cell_type": "code",
   "execution_count": 14,
   "id": "930df63f",
   "metadata": {},
   "outputs": [
    {
     "data": {
      "text/plain": [
       "3928.442139093945"
      ]
     },
     "execution_count": 14,
     "metadata": {},
     "output_type": "execute_result"
    }
   ],
   "source": [
    "statistics.variance(data['PRICE'])"
   ]
  },
  {
   "cell_type": "code",
   "execution_count": null,
   "id": "f34c0501",
   "metadata": {},
   "outputs": [],
   "source": []
  }
 ],
 "metadata": {
  "kernelspec": {
   "display_name": "Python 3 (ipykernel)",
   "language": "python",
   "name": "python3"
  },
  "language_info": {
   "codemirror_mode": {
    "name": "ipython",
    "version": 3
   },
   "file_extension": ".py",
   "mimetype": "text/x-python",
   "name": "python",
   "nbconvert_exporter": "python",
   "pygments_lexer": "ipython3",
   "version": "3.9.7"
  }
 },
 "nbformat": 4,
 "nbformat_minor": 5
}
