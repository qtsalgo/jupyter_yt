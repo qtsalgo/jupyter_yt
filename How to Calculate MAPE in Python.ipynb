{
 "cells": [
  {
   "cell_type": "markdown",
   "id": "68a4a484",
   "metadata": {},
   "source": [
    "# How to Calculate MAPE in Python\n",
    "\n",
    "MAPE = The mean absolute percentage error"
   ]
  },
  {
   "cell_type": "code",
   "execution_count": 1,
   "id": "ff502293",
   "metadata": {},
   "outputs": [],
   "source": [
    "import pandas as pd\n",
    "import numpy as np"
   ]
  },
  {
   "cell_type": "code",
   "execution_count": 2,
   "id": "39d53c4e",
   "metadata": {},
   "outputs": [],
   "source": [
    "df = pd.read_csv('time_series.csv')"
   ]
  },
  {
   "cell_type": "markdown",
   "id": "88b369e6",
   "metadata": {},
   "source": [
    "create a function to calculate the MAPE"
   ]
  },
  {
   "cell_type": "code",
   "execution_count": 3,
   "id": "29a48697",
   "metadata": {},
   "outputs": [],
   "source": [
    "def mape(actual, predicted): \n",
    "    actual, predicted = np.array(actual), np.array(predicted)\n",
    "    return np.mean(np.abs((actual - predicted) / actual)) * 100"
   ]
  },
  {
   "cell_type": "code",
   "execution_count": 4,
   "id": "b4c56747",
   "metadata": {},
   "outputs": [],
   "source": [
    "actual = df.CLOSE\n",
    "predicted = df.CLOSE_MEAN"
   ]
  },
  {
   "cell_type": "code",
   "execution_count": 5,
   "id": "f407e25f",
   "metadata": {},
   "outputs": [
    {
     "data": {
      "text/plain": [
       "0.2858085363185966"
      ]
     },
     "execution_count": 5,
     "metadata": {},
     "output_type": "execute_result"
    }
   ],
   "source": [
    "mape(actual, predicted)"
   ]
  },
  {
   "cell_type": "code",
   "execution_count": null,
   "id": "9a02ae1b",
   "metadata": {},
   "outputs": [],
   "source": []
  }
 ],
 "metadata": {
  "kernelspec": {
   "display_name": "Python 3 (ipykernel)",
   "language": "python",
   "name": "python3"
  },
  "language_info": {
   "codemirror_mode": {
    "name": "ipython",
    "version": 3
   },
   "file_extension": ".py",
   "mimetype": "text/x-python",
   "name": "python",
   "nbconvert_exporter": "python",
   "pygments_lexer": "ipython3",
   "version": "3.9.7"
  }
 },
 "nbformat": 4,
 "nbformat_minor": 5
}
