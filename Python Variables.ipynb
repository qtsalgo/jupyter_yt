{
 "cells": [
  {
   "cell_type": "markdown",
   "id": "a1b23414",
   "metadata": {},
   "source": [
    "# Python Variables"
   ]
  },
  {
   "cell_type": "markdown",
   "id": "39f101e7",
   "metadata": {},
   "source": [
    "Variables are used to store pieces of information in memory. \n",
    "\n",
    "A variable name refers to the block of memory that stores this value. \n",
    "\n",
    "Variables can be many data types including:\n",
    "\n",
    "   - Numbers (integers, floats etc)\n",
    "   - Boolean values ( true  or false )\n",
    "   - Sequence Types (Strings, Lists & Tuples)\n",
    "   - Dictionaries\n",
    "\n",
    "Variables are assigned or updated in the following way. \n",
    "\n",
    "variable name on the left and the stored information to the right of the equal sign. "
   ]
  },
  {
   "cell_type": "code",
   "execution_count": 1,
   "id": "4bb248cb",
   "metadata": {},
   "outputs": [],
   "source": [
    "variable_number = 11\n",
    "variable_boolean = True\n",
    "variable_sequence_type = 'string'"
   ]
  },
  {
   "cell_type": "markdown",
   "id": "0bfb20df",
   "metadata": {},
   "source": [
    "When we call the variable name the stored value in the variable will be returned."
   ]
  },
  {
   "cell_type": "code",
   "execution_count": 2,
   "id": "af8ce58d",
   "metadata": {},
   "outputs": [
    {
     "data": {
      "text/plain": [
       "11"
      ]
     },
     "execution_count": 2,
     "metadata": {},
     "output_type": "execute_result"
    }
   ],
   "source": [
    "variable_number"
   ]
  },
  {
   "cell_type": "code",
   "execution_count": 3,
   "id": "32f94475",
   "metadata": {},
   "outputs": [
    {
     "data": {
      "text/plain": [
       "True"
      ]
     },
     "execution_count": 3,
     "metadata": {},
     "output_type": "execute_result"
    }
   ],
   "source": [
    "variable_boolean"
   ]
  },
  {
   "cell_type": "code",
   "execution_count": 4,
   "id": "92acc5db",
   "metadata": {},
   "outputs": [
    {
     "data": {
      "text/plain": [
       "'string'"
      ]
     },
     "execution_count": 4,
     "metadata": {},
     "output_type": "execute_result"
    }
   ],
   "source": [
    "variable_sequence_type"
   ]
  },
  {
   "cell_type": "code",
   "execution_count": 5,
   "id": "f189cf6f",
   "metadata": {},
   "outputs": [
    {
     "name": "stdout",
     "output_type": "stream",
     "text": [
      "string\n"
     ]
    }
   ],
   "source": [
    "print(variable_sequence_type)"
   ]
  },
  {
   "cell_type": "markdown",
   "id": "474ee55c",
   "metadata": {},
   "source": [
    "We can also use the variable to pass the stored value into other tasks or update other  variables"
   ]
  },
  {
   "cell_type": "code",
   "execution_count": 6,
   "id": "ae97b02b",
   "metadata": {},
   "outputs": [
    {
     "data": {
      "text/plain": [
       "13"
      ]
     },
     "execution_count": 6,
     "metadata": {},
     "output_type": "execute_result"
    }
   ],
   "source": [
    "variable_number + 2"
   ]
  },
  {
   "cell_type": "markdown",
   "id": "f3c1d9d2",
   "metadata": {},
   "source": [
    "Variable names must start with a letter or an underscore but can contain numbers and other characters after the first character. The common convention for naming variables in Python is to use either a single word or multiple words joined together by underscores such as:\n",
    "\n",
    "    - variable\n",
    "    - variable_name\n"
   ]
  },
  {
   "cell_type": "markdown",
   "id": "7e04d749",
   "metadata": {},
   "source": [
    "Python Comments\n",
    "\n",
    "In our Python scripts and notebooks we will often want to place comments in our scripts. Comments are free text that is ignored when the code is run.\n",
    "\n",
    " we can add a hash # at the start of a line and anything that is written after the hash on the same line will be treated as a comment and therefore ignored at run time"
   ]
  },
  {
   "cell_type": "code",
   "execution_count": 7,
   "id": "ed6c60c1",
   "metadata": {},
   "outputs": [
    {
     "data": {
      "text/plain": [
       "'string'"
      ]
     },
     "execution_count": 7,
     "metadata": {},
     "output_type": "execute_result"
    }
   ],
   "source": [
    "# this is a test \n",
    "variable_sequence_type"
   ]
  }
 ],
 "metadata": {
  "kernelspec": {
   "display_name": "Python 3 (ipykernel)",
   "language": "python",
   "name": "python3"
  },
  "language_info": {
   "codemirror_mode": {
    "name": "ipython",
    "version": 3
   },
   "file_extension": ".py",
   "mimetype": "text/x-python",
   "name": "python",
   "nbconvert_exporter": "python",
   "pygments_lexer": "ipython3",
   "version": "3.9.7"
  }
 },
 "nbformat": 4,
 "nbformat_minor": 5
}
