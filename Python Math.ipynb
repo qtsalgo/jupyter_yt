{
 "cells": [
  {
   "cell_type": "markdown",
   "id": "126d27f5",
   "metadata": {},
   "source": [
    "# Python Math "
   ]
  },
  {
   "cell_type": "markdown",
   "id": "b21e61bd",
   "metadata": {},
   "source": [
    "Python has a set of built-in math functions that allows you to perform mathematical tasks on numbers."
   ]
  },
  {
   "cell_type": "markdown",
   "id": "1b004a48",
   "metadata": {},
   "source": [
    "#### Min & Max\n",
    "\n",
    "The min() and max() functions can be used to find the lowest or highest value in an iterable:"
   ]
  },
  {
   "cell_type": "code",
   "execution_count": 1,
   "id": "6d3352f8",
   "metadata": {},
   "outputs": [
    {
     "name": "stdout",
     "output_type": "stream",
     "text": [
      "15\n",
      "75\n"
     ]
    }
   ],
   "source": [
    "x = min(15, 50, 75)\n",
    "y = max(15, 50, 75)\n",
    "\n",
    "print(x)\n",
    "print(y) "
   ]
  },
  {
   "cell_type": "markdown",
   "id": "2a227dbc",
   "metadata": {},
   "source": [
    "#### The abs() function returns the absolute (positive) value of the specified number:"
   ]
  },
  {
   "cell_type": "code",
   "execution_count": 2,
   "id": "02db6061",
   "metadata": {},
   "outputs": [
    {
     "name": "stdout",
     "output_type": "stream",
     "text": [
      "7.25\n"
     ]
    }
   ],
   "source": [
    " x = abs(-7.25)\n",
    "\n",
    "print(x) "
   ]
  },
  {
   "cell_type": "markdown",
   "id": "30f1f1ca",
   "metadata": {},
   "source": [
    "#### The pow(x, y) function returns the value of x to the power of y (xy)."
   ]
  },
  {
   "cell_type": "code",
   "execution_count": 3,
   "id": "b43043bf",
   "metadata": {},
   "outputs": [
    {
     "name": "stdout",
     "output_type": "stream",
     "text": [
      "8\n"
     ]
    }
   ],
   "source": [
    "# Return the value of 2 to the power of 3 (same as 2 * 2 * 2):\n",
    "\n",
    "x = pow(2, 3)\n",
    "\n",
    "print(x) "
   ]
  },
  {
   "cell_type": "markdown",
   "id": "1299d8dc",
   "metadata": {},
   "source": [
    "# The Math Module\n",
    "\n",
    "Python has also a built-in module called math, which extends the list of mathematical functions.\n",
    "\n",
    "To use it, import the math module:"
   ]
  },
  {
   "cell_type": "code",
   "execution_count": 4,
   "id": "91d88829",
   "metadata": {},
   "outputs": [],
   "source": [
    "import math"
   ]
  },
  {
   "cell_type": "markdown",
   "id": "d5b70d91",
   "metadata": {},
   "source": [
    "#### The math.sqrt() method, returns the square root of a number:"
   ]
  },
  {
   "cell_type": "code",
   "execution_count": 5,
   "id": "1eef64df",
   "metadata": {},
   "outputs": [
    {
     "name": "stdout",
     "output_type": "stream",
     "text": [
      "9.0\n"
     ]
    }
   ],
   "source": [
    "import math\n",
    "\n",
    "x = math.sqrt(81)\n",
    "\n",
    "print(x) "
   ]
  },
  {
   "cell_type": "markdown",
   "id": "b62cae2f",
   "metadata": {},
   "source": [
    "#### The math.ceil() method rounds a number upwards to its nearest integer, and the math.floor() method rounds a number downwards to its nearest integer, and returns the result:"
   ]
  },
  {
   "cell_type": "code",
   "execution_count": 6,
   "id": "aade643c",
   "metadata": {},
   "outputs": [
    {
     "name": "stdout",
     "output_type": "stream",
     "text": [
      "7\n",
      "6\n"
     ]
    }
   ],
   "source": [
    "\n",
    "x = math.ceil(6.3)\n",
    "y = math.floor(6.3)\n",
    "\n",
    "print(x) # returns 7\n",
    "print(y) # returns 6 "
   ]
  },
  {
   "cell_type": "markdown",
   "id": "8fe1d81a",
   "metadata": {},
   "source": [
    "#### The math.pi constant, returns the value of PI (3.14...):"
   ]
  },
  {
   "cell_type": "code",
   "execution_count": 7,
   "id": "0f4e1ff6",
   "metadata": {},
   "outputs": [
    {
     "name": "stdout",
     "output_type": "stream",
     "text": [
      "3.141592653589793\n"
     ]
    }
   ],
   "source": [
    "x = math.pi\n",
    "\n",
    "print(x) "
   ]
  },
  {
   "cell_type": "markdown",
   "id": "a6847a17",
   "metadata": {},
   "source": [
    "#### math.cos() \tReturns the cosine of a number"
   ]
  },
  {
   "cell_type": "code",
   "execution_count": 8,
   "id": "0322ab74",
   "metadata": {},
   "outputs": [
    {
     "data": {
      "text/plain": [
       "0.5623790762907029"
      ]
     },
     "execution_count": 8,
     "metadata": {},
     "output_type": "execute_result"
    }
   ],
   "source": [
    "math.cos(1000)"
   ]
  },
  {
   "cell_type": "markdown",
   "id": "8d6f23ba",
   "metadata": {},
   "source": [
    "#### math.dist() \tReturns the Euclidean distance between two points (p and q), where p and q are the coordinates of that point"
   ]
  },
  {
   "cell_type": "code",
   "execution_count": 9,
   "id": "ae85adb7",
   "metadata": {},
   "outputs": [
    {
     "name": "stdout",
     "output_type": "stream",
     "text": [
      "2.0\n",
      "9.486832980505138\n"
     ]
    }
   ],
   "source": [
    "p = [3]\n",
    "q = [1]\n",
    "\n",
    "# Calculate Euclidean distance\n",
    "print (math.dist(p, q))\n",
    "\n",
    "p = [3, 3]\n",
    "q = [6, 12]\n",
    "\n",
    "# Calculate Euclidean distance\n",
    "print (math.dist(p, q)) "
   ]
  },
  {
   "cell_type": "markdown",
   "id": "95a0a36d",
   "metadata": {},
   "source": [
    "#### math.log() \tReturns the natural logarithm of a number, or the logarithm of number to base"
   ]
  },
  {
   "cell_type": "code",
   "execution_count": 10,
   "id": "6870a9b3",
   "metadata": {},
   "outputs": [
    {
     "name": "stdout",
     "output_type": "stream",
     "text": [
      "9.615805480084347\n"
     ]
    }
   ],
   "source": [
    "# Return the natural logarithm \n",
    "print(math.log(15000))\n"
   ]
  },
  {
   "cell_type": "markdown",
   "id": "7d5133a4",
   "metadata": {},
   "source": [
    "#### math.log10() \tReturns the base-10 logarithm of x"
   ]
  },
  {
   "cell_type": "code",
   "execution_count": 11,
   "id": "2ee31973",
   "metadata": {},
   "outputs": [
    {
     "name": "stdout",
     "output_type": "stream",
     "text": [
      "4.176091259055681\n"
     ]
    }
   ],
   "source": [
    "# Return the base-10 logarithm \n",
    "print(math.log10(15000))\n"
   ]
  },
  {
   "cell_type": "markdown",
   "id": "fdb03cb1",
   "metadata": {},
   "source": [
    "#### math.sqrt() \tReturns the square root of a number"
   ]
  },
  {
   "cell_type": "code",
   "execution_count": 12,
   "id": "423fce43",
   "metadata": {},
   "outputs": [
    {
     "name": "stdout",
     "output_type": "stream",
     "text": [
      "122.47448713915891\n"
     ]
    }
   ],
   "source": [
    "# Return the square root of a number\n",
    "print (math.sqrt(15000))\n"
   ]
  },
  {
   "cell_type": "code",
   "execution_count": null,
   "id": "5d7d51d9",
   "metadata": {},
   "outputs": [],
   "source": []
  }
 ],
 "metadata": {
  "kernelspec": {
   "display_name": "Python 3 (ipykernel)",
   "language": "python",
   "name": "python3"
  },
  "language_info": {
   "codemirror_mode": {
    "name": "ipython",
    "version": 3
   },
   "file_extension": ".py",
   "mimetype": "text/x-python",
   "name": "python",
   "nbconvert_exporter": "python",
   "pygments_lexer": "ipython3",
   "version": "3.9.7"
  }
 },
 "nbformat": 4,
 "nbformat_minor": 5
}
