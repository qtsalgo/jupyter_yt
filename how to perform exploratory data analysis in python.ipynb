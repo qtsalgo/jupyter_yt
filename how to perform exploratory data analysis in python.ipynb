{
 "cells": [
  {
   "cell_type": "markdown",
   "id": "bab0186b",
   "metadata": {},
   "source": [
    "# How to Perform Exploratory Data Analysis in Python"
   ]
  },
  {
   "cell_type": "code",
   "execution_count": 1,
   "id": "952d1941",
   "metadata": {},
   "outputs": [],
   "source": [
    "import pandas as pd\n",
    "import numpy as np\n"
   ]
  },
  {
   "cell_type": "code",
   "execution_count": 2,
   "id": "6aee7c5a",
   "metadata": {},
   "outputs": [],
   "source": [
    "df = pd.read_csv('example_data.csv')"
   ]
  },
  {
   "cell_type": "markdown",
   "id": "13955f37",
   "metadata": {},
   "source": [
    "### head"
   ]
  },
  {
   "cell_type": "code",
   "execution_count": 3,
   "id": "c5d1d8cb",
   "metadata": {
    "scrolled": false
   },
   "outputs": [
    {
     "data": {
      "text/html": [
       "<div>\n",
       "<style scoped>\n",
       "    .dataframe tbody tr th:only-of-type {\n",
       "        vertical-align: middle;\n",
       "    }\n",
       "\n",
       "    .dataframe tbody tr th {\n",
       "        vertical-align: top;\n",
       "    }\n",
       "\n",
       "    .dataframe thead th {\n",
       "        text-align: right;\n",
       "    }\n",
       "</style>\n",
       "<table border=\"1\" class=\"dataframe\">\n",
       "  <thead>\n",
       "    <tr style=\"text-align: right;\">\n",
       "      <th></th>\n",
       "      <th>CLOSE</th>\n",
       "      <th>HIGH</th>\n",
       "      <th>LOW</th>\n",
       "      <th>OPEN</th>\n",
       "    </tr>\n",
       "  </thead>\n",
       "  <tbody>\n",
       "    <tr>\n",
       "      <th>0</th>\n",
       "      <td>16031</td>\n",
       "      <td>16031</td>\n",
       "      <td>16016</td>\n",
       "      <td>16018</td>\n",
       "    </tr>\n",
       "    <tr>\n",
       "      <th>1</th>\n",
       "      <td>16006</td>\n",
       "      <td>16039</td>\n",
       "      <td>16006</td>\n",
       "      <td>16018</td>\n",
       "    </tr>\n",
       "    <tr>\n",
       "      <th>2</th>\n",
       "      <td>16033</td>\n",
       "      <td>16033</td>\n",
       "      <td>16005</td>\n",
       "      <td>16018</td>\n",
       "    </tr>\n",
       "    <tr>\n",
       "      <th>3</th>\n",
       "      <td>16007</td>\n",
       "      <td>16034</td>\n",
       "      <td>16007</td>\n",
       "      <td>16018</td>\n",
       "    </tr>\n",
       "    <tr>\n",
       "      <th>4</th>\n",
       "      <td>15994</td>\n",
       "      <td>16008</td>\n",
       "      <td>15994</td>\n",
       "      <td>16007</td>\n",
       "    </tr>\n",
       "  </tbody>\n",
       "</table>\n",
       "</div>"
      ],
      "text/plain": [
       "   CLOSE   HIGH    LOW   OPEN\n",
       "0  16031  16031  16016  16018\n",
       "1  16006  16039  16006  16018\n",
       "2  16033  16033  16005  16018\n",
       "3  16007  16034  16007  16018\n",
       "4  15994  16008  15994  16007"
      ]
     },
     "execution_count": 3,
     "metadata": {},
     "output_type": "execute_result"
    }
   ],
   "source": [
    "df.head()"
   ]
  },
  {
   "cell_type": "markdown",
   "id": "6ba89cda",
   "metadata": {},
   "source": [
    "### shape"
   ]
  },
  {
   "cell_type": "code",
   "execution_count": 4,
   "id": "373a2fcb",
   "metadata": {},
   "outputs": [
    {
     "data": {
      "text/plain": [
       "(71, 4)"
      ]
     },
     "execution_count": 4,
     "metadata": {},
     "output_type": "execute_result"
    }
   ],
   "source": [
    "df.shape"
   ]
  },
  {
   "cell_type": "markdown",
   "id": "ada8777e",
   "metadata": {},
   "source": [
    "### describe"
   ]
  },
  {
   "cell_type": "code",
   "execution_count": 5,
   "id": "a1f73cf5",
   "metadata": {
    "scrolled": true
   },
   "outputs": [
    {
     "data": {
      "text/html": [
       "<div>\n",
       "<style scoped>\n",
       "    .dataframe tbody tr th:only-of-type {\n",
       "        vertical-align: middle;\n",
       "    }\n",
       "\n",
       "    .dataframe tbody tr th {\n",
       "        vertical-align: top;\n",
       "    }\n",
       "\n",
       "    .dataframe thead th {\n",
       "        text-align: right;\n",
       "    }\n",
       "</style>\n",
       "<table border=\"1\" class=\"dataframe\">\n",
       "  <thead>\n",
       "    <tr style=\"text-align: right;\">\n",
       "      <th></th>\n",
       "      <th>CLOSE</th>\n",
       "      <th>HIGH</th>\n",
       "      <th>LOW</th>\n",
       "      <th>OPEN</th>\n",
       "    </tr>\n",
       "  </thead>\n",
       "  <tbody>\n",
       "    <tr>\n",
       "      <th>count</th>\n",
       "      <td>71.000000</td>\n",
       "      <td>71.000000</td>\n",
       "      <td>71.000000</td>\n",
       "      <td>71.000000</td>\n",
       "    </tr>\n",
       "    <tr>\n",
       "      <th>mean</th>\n",
       "      <td>15953.732394</td>\n",
       "      <td>15966.605634</td>\n",
       "      <td>15941.492958</td>\n",
       "      <td>15954.183099</td>\n",
       "    </tr>\n",
       "    <tr>\n",
       "      <th>std</th>\n",
       "      <td>57.683114</td>\n",
       "      <td>55.692646</td>\n",
       "      <td>56.617482</td>\n",
       "      <td>55.153891</td>\n",
       "    </tr>\n",
       "    <tr>\n",
       "      <th>min</th>\n",
       "      <td>15827.000000</td>\n",
       "      <td>15847.000000</td>\n",
       "      <td>15821.000000</td>\n",
       "      <td>15840.000000</td>\n",
       "    </tr>\n",
       "    <tr>\n",
       "      <th>25%</th>\n",
       "      <td>15912.500000</td>\n",
       "      <td>15931.500000</td>\n",
       "      <td>15902.000000</td>\n",
       "      <td>15920.000000</td>\n",
       "    </tr>\n",
       "    <tr>\n",
       "      <th>50%</th>\n",
       "      <td>15957.000000</td>\n",
       "      <td>15976.000000</td>\n",
       "      <td>15947.000000</td>\n",
       "      <td>15963.000000</td>\n",
       "    </tr>\n",
       "    <tr>\n",
       "      <th>75%</th>\n",
       "      <td>15998.000000</td>\n",
       "      <td>16009.000000</td>\n",
       "      <td>15988.500000</td>\n",
       "      <td>15994.000000</td>\n",
       "    </tr>\n",
       "    <tr>\n",
       "      <th>max</th>\n",
       "      <td>16068.000000</td>\n",
       "      <td>16078.000000</td>\n",
       "      <td>16048.000000</td>\n",
       "      <td>16055.000000</td>\n",
       "    </tr>\n",
       "  </tbody>\n",
       "</table>\n",
       "</div>"
      ],
      "text/plain": [
       "              CLOSE          HIGH           LOW          OPEN\n",
       "count     71.000000     71.000000     71.000000     71.000000\n",
       "mean   15953.732394  15966.605634  15941.492958  15954.183099\n",
       "std       57.683114     55.692646     56.617482     55.153891\n",
       "min    15827.000000  15847.000000  15821.000000  15840.000000\n",
       "25%    15912.500000  15931.500000  15902.000000  15920.000000\n",
       "50%    15957.000000  15976.000000  15947.000000  15963.000000\n",
       "75%    15998.000000  16009.000000  15988.500000  15994.000000\n",
       "max    16068.000000  16078.000000  16048.000000  16055.000000"
      ]
     },
     "execution_count": 5,
     "metadata": {},
     "output_type": "execute_result"
    }
   ],
   "source": [
    "df.describe()"
   ]
  },
  {
   "cell_type": "markdown",
   "id": "f389412a",
   "metadata": {},
   "source": [
    "\n",
    "   \n"
   ]
  },
  {
   "cell_type": "markdown",
   "id": "8a9be4b9",
   "metadata": {},
   "source": [
    "### visualize the data  "
   ]
  },
  {
   "cell_type": "markdown",
   "id": "9ef52418",
   "metadata": {},
   "source": [
    "##### boxplots"
   ]
  },
  {
   "cell_type": "code",
   "execution_count": 7,
   "id": "841410e7",
   "metadata": {},
   "outputs": [
    {
     "data": {
      "text/plain": [
       "<AxesSubplot:>"
      ]
     },
     "execution_count": 7,
     "metadata": {},
     "output_type": "execute_result"
    },
    {
     "data": {
      "image/png": "[encoded data removed]",
      "text/plain": [
       "<Figure size 432x288 with 1 Axes>"
      ]
     },
     "metadata": {
      "needs_background": "light"
     },
     "output_type": "display_data"
    }
   ],
   "source": [
    "df.boxplot(grid=False)"
   ]
  },
  {
   "cell_type": "markdown",
   "id": "676e4000",
   "metadata": {},
   "source": [
    "##### histograms"
   ]
  },
  {
   "cell_type": "code",
   "execution_count": 8,
   "id": "a459e48b",
   "metadata": {},
   "outputs": [
    {
     "data": {
      "text/plain": [
       "array([[<AxesSubplot:title={'center':'CLOSE'}>,\n",
       "        <AxesSubplot:title={'center':'HIGH'}>],\n",
       "       [<AxesSubplot:title={'center':'LOW'}>,\n",
       "        <AxesSubplot:title={'center':'OPEN'}>]], dtype=object)"
      ]
     },
     "execution_count": 8,
     "metadata": {},
     "output_type": "execute_result"
    },
    {
     "data": {
      "image/png": "[encoded data removed]",
      "text/plain": [
       "<Figure size 432x288 with 4 Axes>"
      ]
     },
     "metadata": {
      "needs_background": "light"
     },
     "output_type": "display_data"
    }
   ],
   "source": [
    "#create a histogram for allnumerical variables\n",
    "df.hist(grid=False, edgecolor='yellow')"
   ]
  },
  {
   "cell_type": "markdown",
   "id": "ac9a7e58",
   "metadata": {},
   "source": [
    "### create a correlation matrix with pandas"
   ]
  },
  {
   "cell_type": "code",
   "execution_count": 9,
   "id": "629cbd56",
   "metadata": {},
   "outputs": [
    {
     "data": {
      "text/html": [
       "<div>\n",
       "<style scoped>\n",
       "    .dataframe tbody tr th:only-of-type {\n",
       "        vertical-align: middle;\n",
       "    }\n",
       "\n",
       "    .dataframe tbody tr th {\n",
       "        vertical-align: top;\n",
       "    }\n",
       "\n",
       "    .dataframe thead th {\n",
       "        text-align: right;\n",
       "    }\n",
       "</style>\n",
       "<table border=\"1\" class=\"dataframe\">\n",
       "  <thead>\n",
       "    <tr style=\"text-align: right;\">\n",
       "      <th></th>\n",
       "      <th>CLOSE</th>\n",
       "      <th>HIGH</th>\n",
       "      <th>LOW</th>\n",
       "      <th>OPEN</th>\n",
       "    </tr>\n",
       "  </thead>\n",
       "  <tbody>\n",
       "    <tr>\n",
       "      <th>CLOSE</th>\n",
       "      <td>1.000000</td>\n",
       "      <td>0.971677</td>\n",
       "      <td>0.969915</td>\n",
       "      <td>0.973898</td>\n",
       "    </tr>\n",
       "    <tr>\n",
       "      <th>HIGH</th>\n",
       "      <td>0.971677</td>\n",
       "      <td>1.000000</td>\n",
       "      <td>0.989994</td>\n",
       "      <td>0.994617</td>\n",
       "    </tr>\n",
       "    <tr>\n",
       "      <th>LOW</th>\n",
       "      <td>0.969915</td>\n",
       "      <td>0.989994</td>\n",
       "      <td>1.000000</td>\n",
       "      <td>0.995148</td>\n",
       "    </tr>\n",
       "    <tr>\n",
       "      <th>OPEN</th>\n",
       "      <td>0.973898</td>\n",
       "      <td>0.994617</td>\n",
       "      <td>0.995148</td>\n",
       "      <td>1.000000</td>\n",
       "    </tr>\n",
       "  </tbody>\n",
       "</table>\n",
       "</div>"
      ],
      "text/plain": [
       "          CLOSE      HIGH       LOW      OPEN\n",
       "CLOSE  1.000000  0.971677  0.969915  0.973898\n",
       "HIGH   0.971677  1.000000  0.989994  0.994617\n",
       "LOW    0.969915  0.989994  1.000000  0.995148\n",
       "OPEN   0.973898  0.994617  0.995148  1.000000"
      ]
     },
     "execution_count": 9,
     "metadata": {},
     "output_type": "execute_result"
    }
   ],
   "source": [
    "df.corr()"
   ]
  },
  {
   "cell_type": "code",
   "execution_count": null,
   "id": "0b050a6f",
   "metadata": {},
   "outputs": [],
   "source": []
  }
 ],
 "metadata": {
  "kernelspec": {
   "display_name": "Python 3 (ipykernel)",
   "language": "python",
   "name": "python3"
  },
  "language_info": {
   "codemirror_mode": {
    "name": "ipython",
    "version": 3
   },
   "file_extension": ".py",
   "mimetype": "text/x-python",
   "name": "python",
   "nbconvert_exporter": "python",
   "pygments_lexer": "ipython3",
   "version": "3.9.7"
  }
 },
 "nbformat": 4,
 "nbformat_minor": 5
}
